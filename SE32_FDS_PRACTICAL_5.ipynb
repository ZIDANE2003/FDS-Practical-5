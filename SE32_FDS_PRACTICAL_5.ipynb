{
  "nbformat": 4,
  "nbformat_minor": 0,
  "metadata": {
    "colab": {
      "name": "SE32 FDS PRACTICAL 5 ",
      "provenance": [],
      "collapsed_sections": [],
      "toc_visible": true,
      "include_colab_link": true
    },
    "kernelspec": {
      "display_name": "Python 3",
      "name": "python3"
    }
  },
  "cells": [
    {
      "cell_type": "markdown",
      "metadata": {
        "id": "view-in-github",
        "colab_type": "text"
      },
      "source": [
        "<a href=\"https://colab.research.google.com/github/ZIDANE2003/FDS-Practical-5/blob/main/SE32_FDS_PRACTICAL_5.ipynb\" target=\"_parent\"><img src=\"https://colab.research.google.com/assets/colab-badge.svg\" alt=\"Open In Colab\"/></a>"
      ]
    },
    {
      "cell_type": "code",
      "metadata": {
        "id": "EeZy-3ihqIVO",
        "colab": {
          "base_uri": "https://localhost:8080/"
        },
        "outputId": "4bac0a20-5679-4ed9-e519-e3e6080c55b1"
      },
      "source": [
        "# String Operation\n",
        "element = input(\"Enter the String: \") \n",
        "char=input(\"Enter the character whose occurence you want to find: \") \n",
        "count=0\n",
        "counter=0\n",
        "# To check length of string \n",
        "for i in range(len(element)):\n",
        "  count=count+1\n",
        "print(\"Length of string:\",count) \n",
        "print()\n",
        "# occurence of Character in string\n",
        "counter=0 \n",
        "for i in range(len(element)):\n",
        "  if char==element[i]:\n",
        "    counter+=1\n",
        "print(\"occurence of Character in string:\",counter)  \n",
        "print()\n",
        "# STRING IS PALINDROME OR NOT \n",
        "if (element  == element [::-1]):\n",
        " print(\"The given string is palindrome\")\n",
        "else:\n",
        " print(\"The given string is not palindrome\") \n",
        "print() \n",
        "# find word with longest length\n",
        "element2=input(\" Enter string to find word with longest length:\")\n",
        "list=element2.split()\n",
        "z=0\n",
        "for i in range(len(list)):\n",
        "  len(list[i])\n",
        "  if z< len(list[i]):\n",
        "    z=len(list[i])\n",
        "    word=i\n",
        "print(\"The Word With Longest Length is:\", list[word])  \n",
        "print()\n",
        "#occurence of word  \n",
        "element3=input(\" Enter string to count occurence of word :\")\n",
        "total=dict()\n",
        "words=element3.split()\n",
        "for i in words:\n",
        "  if i in total:\n",
        "    total[i]+=1\n",
        "  else:\n",
        "    total[i]=1\n",
        "print(total)   \n",
        "print()\n",
        "#To display index of first appearance of substring\n",
        "element4=input(\" Enter string to display index of first appearance of substring:\") \n",
        "element5=input(\" Enter substring:\")\n",
        "sublen=len(element5 )\n",
        "x=0\n",
        "y=0\n",
        "for i in range(len(element4)):\n",
        "  if element5[y]==element4[i]:\n",
        "    sub=1\n",
        "    y=y+1\n",
        "    if y==sublen:\n",
        "      x=i-(sublen-1)\n",
        "      break\n",
        "  else:\n",
        "     sub=0\n",
        "     y=0\n",
        "print(\"index of sunstring is:\",x)        \n",
        "\n",
        "\n",
        "\n",
        "\n",
        "\n",
        "\n",
        "\n",
        "\n",
        "\n",
        "\n",
        "\n"
      ],
      "execution_count": 14,
      "outputs": [
        {
          "output_type": "stream",
          "name": "stdout",
          "text": [
            "Enter the String: hannah\n",
            "Enter the character whose occurence you want to find: h\n",
            "Length of string: 6\n",
            "\n",
            "occurence of Character in string: 2\n",
            "\n",
            "The given string is palindrome\n",
            "\n",
            " Enter string to find word with longest length:hello zidane\n",
            "The Word With Longest Length is: zidane\n",
            "\n",
            " Enter string to count occurence of word :hello zidane hello world\n",
            "{'hello': 2, 'zidane': 1, 'world': 1}\n",
            "\n",
            " Enter string to display index of first appearance of substring:zidane\n",
            " Enter substring:z\n",
            "index of sunstring is: 0\n"
          ]
        }
      ]
    }
  ]
}